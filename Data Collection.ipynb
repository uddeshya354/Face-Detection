{
 "cells": [
  {
   "cell_type": "code",
   "execution_count": 57,
   "id": "b2792a5b-a73f-49da-93a3-dfb904c413c7",
   "metadata": {},
   "outputs": [],
   "source": [
    "import os\n",
    "import time\n",
    "import uuid\n",
    "import cv2\n"
   ]
  },
  {
   "cell_type": "code",
   "execution_count": 59,
   "id": "4071823a-e7b5-4a7e-a50d-42ea614d2224",
   "metadata": {},
   "outputs": [
    {
     "name": "stdout",
     "output_type": "stream",
     "text": [
      "Requirement already satisfied: opencv-python in c:\\users\\dell\\anaconda3\\lib\\site-packages (4.10.0.84)\n",
      "Requirement already satisfied: numpy>=1.21.2 in c:\\users\\dell\\anaconda3\\lib\\site-packages (from opencv-python) (1.26.4)\n"
     ]
    },
    {
     "name": "stderr",
     "output_type": "stream",
     "text": [
      "\n",
      "[notice] A new release of pip is available: 25.0 -> 25.1.1\n",
      "[notice] To update, run: python.exe -m pip install --upgrade pip\n"
     ]
    }
   ],
   "source": [
    "!pip install opencv-python\n"
   ]
  },
  {
   "cell_type": "code",
   "execution_count": 60,
   "id": "4f95ee1c-6689-4f2b-927d-8aa968105e3e",
   "metadata": {},
   "outputs": [],
   "source": [
    "img_num = 90"
   ]
  },
  {
   "cell_type": "code",
   "execution_count": 61,
   "id": "e584818b-f23a-417b-ab49-2761fbb6e313",
   "metadata": {},
   "outputs": [],
   "source": [
    "image_path = os.path.join('data','images')\n",
    "if not os.path.exists(image_path):\n",
    "    !mkdir {image_path}\n",
    "    "
   ]
  },
  {
   "cell_type": "code",
   "execution_count": 62,
   "id": "5767a991-b7ad-4210-ae1d-59806df52856",
   "metadata": {},
   "outputs": [
    {
     "name": "stdout",
     "output_type": "stream",
     "text": [
      "Collecting Images\n",
      "Collecting image no.0\n",
      "Collecting image no.1\n",
      "Collecting image no.2\n",
      "Collecting image no.3\n",
      "Collecting image no.4\n",
      "Collecting image no.5\n",
      "Collecting image no.6\n",
      "Collecting image no.7\n",
      "Collecting image no.8\n",
      "Collecting image no.9\n",
      "Collecting image no.10\n",
      "Collecting image no.11\n",
      "Collecting image no.12\n",
      "Collecting image no.13\n",
      "Collecting image no.14\n",
      "Collecting image no.15\n",
      "Collecting image no.16\n",
      "Collecting image no.17\n",
      "Collecting image no.18\n",
      "Collecting image no.19\n",
      "Collecting image no.20\n",
      "Collecting image no.21\n",
      "Collecting image no.22\n",
      "Collecting image no.23\n",
      "Collecting image no.24\n",
      "Collecting image no.25\n",
      "Collecting image no.26\n",
      "Collecting image no.27\n",
      "Collecting image no.28\n",
      "Collecting image no.29\n",
      "Collecting image no.30\n",
      "Collecting image no.31\n",
      "Collecting image no.32\n",
      "Collecting image no.33\n",
      "Collecting image no.34\n",
      "Collecting image no.35\n",
      "Collecting image no.36\n",
      "Collecting image no.37\n",
      "Collecting image no.38\n",
      "Collecting image no.39\n",
      "Collecting image no.40\n",
      "Collecting image no.41\n",
      "Collecting image no.42\n",
      "Collecting image no.43\n",
      "Collecting image no.44\n",
      "Collecting image no.45\n",
      "Collecting image no.46\n",
      "Collecting image no.47\n",
      "Collecting image no.48\n",
      "Collecting image no.49\n",
      "Collecting image no.50\n",
      "Collecting image no.51\n",
      "Collecting image no.52\n",
      "Collecting image no.53\n",
      "Collecting image no.54\n",
      "Collecting image no.55\n",
      "Collecting image no.56\n",
      "Collecting image no.57\n",
      "Collecting image no.58\n",
      "Collecting image no.59\n",
      "Collecting image no.60\n",
      "Collecting image no.61\n",
      "Collecting image no.62\n",
      "Collecting image no.63\n",
      "Collecting image no.64\n",
      "Collecting image no.65\n",
      "Collecting image no.66\n",
      "Collecting image no.67\n",
      "Collecting image no.68\n",
      "Collecting image no.69\n",
      "Collecting image no.70\n",
      "Collecting image no.71\n",
      "Collecting image no.72\n",
      "Collecting image no.73\n",
      "Collecting image no.74\n",
      "Collecting image no.75\n",
      "Collecting image no.76\n",
      "Collecting image no.77\n",
      "Collecting image no.78\n",
      "Collecting image no.79\n",
      "Collecting image no.80\n",
      "Collecting image no.81\n",
      "Collecting image no.82\n",
      "Collecting image no.83\n",
      "Collecting image no.84\n",
      "Collecting image no.85\n",
      "Collecting image no.86\n",
      "Collecting image no.87\n",
      "Collecting image no.88\n",
      "Collecting image no.89\n"
     ]
    }
   ],
   "source": [
    "cap  = cv2.VideoCapture(0)\n",
    "print('Collecting Images')\n",
    "time.sleep(2)\n",
    "for imgnum in range(img_num):\n",
    "    print('Collecting image no.{}'.format(imgnum))\n",
    "    ret, frame = cap.read()\n",
    "    cv2.imshow('OpenCV Feed', frame)\n",
    "    img_name = os.path.join(image_path+'.' + '{}.jpg'.format(str(uuid.uuid1())))\n",
    "    cv2.imwrite(img_name,frame)\n",
    "    time.sleep(2)\n",
    "    if cv2.waitKey(1) & 0xFF == ord('q'):\n",
    "     break\n",
    "cap.release()\n",
    "cv2.destroyAllWindows()\n",
    "    "
   ]
  },
  {
   "cell_type": "code",
   "execution_count": null,
   "id": "21aaaae9-477c-4c80-beec-a502ac308859",
   "metadata": {},
   "outputs": [],
   "source": [
    "!labelme"
   ]
  },
  {
   "cell_type": "code",
   "execution_count": null,
   "id": "b2e34c9e-aecc-4332-b2d8-dda693f49a55",
   "metadata": {},
   "outputs": [],
   "source": []
  }
 ],
 "metadata": {
  "kernelspec": {
   "display_name": "Python 3 (ipykernel)",
   "language": "python",
   "name": "python3"
  },
  "language_info": {
   "codemirror_mode": {
    "name": "ipython",
    "version": 3
   },
   "file_extension": ".py",
   "mimetype": "text/x-python",
   "name": "python",
   "nbconvert_exporter": "python",
   "pygments_lexer": "ipython3",
   "version": "3.12.7"
  }
 },
 "nbformat": 4,
 "nbformat_minor": 5
}
