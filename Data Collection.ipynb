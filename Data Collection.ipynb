{
 "cells": [
  {
   "cell_type": "code",
   "execution_count": 45,
   "id": "b2792a5b-a73f-49da-93a3-dfb904c413c7",
   "metadata": {},
   "outputs": [],
   "source": [
    "import os\n",
    "import time\n",
    "import uuid\n",
    "import cv2\n"
   ]
  },
  {
   "cell_type": "code",
   "execution_count": 46,
   "id": "4071823a-e7b5-4a7e-a50d-42ea614d2224",
   "metadata": {},
   "outputs": [
    {
     "name": "stdout",
     "output_type": "stream",
     "text": [
      "Requirement already satisfied: opencv-python in c:\\users\\dell\\anaconda3\\lib\\site-packages (4.10.0.84)\n",
      "Requirement already satisfied: numpy>=1.21.2 in c:\\users\\dell\\anaconda3\\lib\\site-packages (from opencv-python) (1.26.4)\n"
     ]
    },
    {
     "name": "stderr",
     "output_type": "stream",
     "text": [
      "\n",
      "[notice] A new release of pip is available: 25.0 -> 25.1.1\n",
      "[notice] To update, run: python.exe -m pip install --upgrade pip\n"
     ]
    }
   ],
   "source": [
    "!pip install opencv-python\n"
   ]
  },
  {
   "cell_type": "code",
   "execution_count": 47,
   "id": "4f95ee1c-6689-4f2b-927d-8aa968105e3e",
   "metadata": {},
   "outputs": [],
   "source": [
    "img_num = 90"
   ]
  },
  {
   "cell_type": "code",
   "execution_count": 48,
   "id": "e584818b-f23a-417b-ab49-2761fbb6e313",
   "metadata": {},
   "outputs": [],
   "source": [
    "image_path = os.path.join('data','images')\n",
    "if not os.path.exists(image_path):\n",
    "    !mkdir {image_path}\n",
    "    "
   ]
  },
  {
   "cell_type": "code",
   "execution_count": 49,
   "id": "5767a991-b7ad-4210-ae1d-59806df52856",
   "metadata": {},
   "outputs": [
    {
     "name": "stdout",
     "output_type": "stream",
     "text": [
      "Collecting Images\n",
      "Collecting image no.0\n"
     ]
    }
   ],
   "source": [
    "cap  = cv2.VideoCapture(0)\n",
    "print('Collecting Images')\n",
    "time.sleep(2)\n",
    "for imgnum in range(img_num):\n",
    "    print('Collecting image no.{}'.format(imgnum))\n",
    "    ret, frame = cap.read()\n",
    "    cv2.imshow('OpenCV Feed', frame)\n",
    "    img_name = os.path.join(image_path+'.' + '{}.jpg'.format(str(uuid.uuid1())))\n",
    "    cv2.imwrite(img_name,frame)\n",
    "    time.sleep(2)\n",
    "    if cv2.waitKey(1) & 0xFF == ord('q'):\n",
    "     break\n",
    "cap.release()\n",
    "cv2.destroyAllWindows()\n",
    "    "
   ]
  },
  {
   "cell_type": "code",
   "execution_count": null,
   "id": "21aaaae9-477c-4c80-beec-a502ac308859",
   "metadata": {},
   "outputs": [],
   "source": [
    "!labelme"
   ]
  },
  {
   "cell_type": "code",
   "execution_count": null,
   "id": "b2e34c9e-aecc-4332-b2d8-dda693f49a55",
   "metadata": {},
   "outputs": [],
   "source": []
  }
 ],
 "metadata": {
  "kernelspec": {
   "display_name": "Python 3 (ipykernel)",
   "language": "python",
   "name": "python3"
  },
  "language_info": {
   "codemirror_mode": {
    "name": "ipython",
    "version": 3
   },
   "file_extension": ".py",
   "mimetype": "text/x-python",
   "name": "python",
   "nbconvert_exporter": "python",
   "pygments_lexer": "ipython3",
   "version": "3.12.7"
  }
 },
 "nbformat": 4,
 "nbformat_minor": 5
}
